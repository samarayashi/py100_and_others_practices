{
 "cells": [
  {
   "cell_type": "markdown",
   "id": "87b68aa2",
   "metadata": {},
   "source": [
    "```一\n",
    "十\n",
    "十一\n",
    "二十一\n",
    "一百\n",
    "一百一十\n",
    "一百一十一\n",
    "\n",
    "1\n",
    "10\n",
    "一零\n",
    "一十零\n",
    "一十\n",
    "\n",
    "11\n",
    "一一\n",
    "一十一\n",
    "十一\n",
    "\n",
    "\n",
    "21\n",
    "100\n",
    "110\n",
    "1111\n",
    "一一一一\n",
    "```"
   ]
  },
  {
   "cell_type": "code",
   "execution_count": 15,
   "id": "d46f72b2",
   "metadata": {},
   "outputs": [],
   "source": [
    "def int2ch(num):\n",
    "    ch_nums=['零','一','二','三','四','五','六','七','八','九']\n",
    "    ch_bases=['十','百','千','萬']\n",
    "    str_nums = [str(i) for i in range(10)]\n",
    "    single_dict = dict((zip(str_nums, ch_nums)))\n",
    "    base_dict = dict(zip(range(2,6), ch_bases))\n",
    "    print(single_dict)\n",
    "    print(base_dict)\n",
    "#     str_num = str(int_num)\n",
    "    \n",
    "    "
   ]
  },
  {
   "cell_type": "code",
   "execution_count": 16,
   "id": "2da622d7",
   "metadata": {},
   "outputs": [
    {
     "name": "stdout",
     "output_type": "stream",
     "text": [
      "{'0': '零', '1': '一', '2': '二', '3': '三', '4': '四', '5': '五', '6': '六', '7': '七', '8': '八', '9': '九'}\n",
      "{2: '十', 3: '百', 4: '千', 5: '萬'}\n"
     ]
    }
   ],
   "source": [
    "int2ch(111)"
   ]
  },
  {
   "cell_type": "code",
   "execution_count": 19,
   "id": "9469ce74",
   "metadata": {},
   "outputs": [],
   "source": [
    "def int2ch(num):\n",
    "    ch_nums=['零','一','二','三','四','五','六','七','八','九']\n",
    "    ch_bases=['十','百','千','萬']\n",
    "    str_nums = [str(i) for i in range(10)]\n",
    "    single_dict = dict((zip(str_nums, ch_nums)))\n",
    "    base_dict = dict(zip(range(2,6), ch_bases))\n",
    "    num = str(num)\n",
    "    num = \"\".join(single_dict[i] for i in num)"
   ]
  },
  {
   "cell_type": "code",
   "execution_count": 20,
   "id": "44e10d95",
   "metadata": {},
   "outputs": [
    {
     "name": "stdout",
     "output_type": "stream",
     "text": [
      "一一一\n"
     ]
    }
   ],
   "source": [
    "int2ch(111)"
   ]
  },
  {
   "cell_type": "code",
   "execution_count": 51,
   "id": "af45626d",
   "metadata": {},
   "outputs": [],
   "source": [
    "def int2ch(num):\n",
    "    ch_nums=['零','一','二','三','四','五','六','七','八','九']\n",
    "    ch_bases=['零','十','百','千','萬']\n",
    "    str_nums = [str(i) for i in range(10)]\n",
    "    single_dict = dict((zip(str_nums, ch_nums)))\n",
    "    base_dict = dict(zip(range(1, 6), ch_bases))\n",
    "    num = str(num)\n",
    "    num = [single_dict[i] for i in num]\n",
    "    print(num)\n",
    "    print(len(num))\n",
    "    bases = [base_dict[i] for i in range(len(num),0 ,-1)]\n",
    "    print(bases)"
   ]
  },
  {
   "cell_type": "code",
   "execution_count": 52,
   "id": "556e9429",
   "metadata": {},
   "outputs": [
    {
     "name": "stdout",
     "output_type": "stream",
     "text": [
      "['一', '一', '一']\n",
      "3\n",
      "['百', '十', '零']\n"
     ]
    }
   ],
   "source": [
    "int2ch(111)"
   ]
  },
  {
   "cell_type": "code",
   "execution_count": 73,
   "id": "17e71362",
   "metadata": {},
   "outputs": [],
   "source": [
    "def int2ch(num):\n",
    "    ch_nums=['零','一','二','三','四','五','六','七','八','九']\n",
    "    ch_bases=['零','十','百','千','萬']\n",
    "    str_nums = [str(i) for i in range(10)]\n",
    "    single_dict = dict((zip(str_nums, ch_nums)))\n",
    "    base_dict = dict(zip(range(1, 6), ch_bases))\n",
    "    num = str(num)\n",
    "    nums = [single_dict[i] for i in num]\n",
    "    print(nums)\n",
    "    print(len(nums))\n",
    "    bases = [base_dict[i] for i in range(len(nums),0 ,-1)]\n",
    "    print(bases)\n",
    "    print(list(zip(nums, bases)))\n",
    "    trans_num = [num+base for num, base in zip(nums, bases) if not num=='零']\n",
    "    print(trans_num)\n",
    "    if trans_num[0] == '一十':\n",
    "        trans_num[0] = '十'\n",
    "    trans_num = ''.join(trans_num).strip('零')\n",
    "    print(trans_num)"
   ]
  },
  {
   "cell_type": "code",
   "execution_count": 74,
   "id": "76a14c73",
   "metadata": {},
   "outputs": [
    {
     "name": "stdout",
     "output_type": "stream",
     "text": [
      "['一', '一', '一']\n",
      "3\n",
      "['百', '十', '零']\n",
      "[('一', '百'), ('一', '十'), ('一', '零')]\n",
      "['一百', '一十', '一零']\n",
      "一百一十一\n"
     ]
    }
   ],
   "source": [
    "int2ch(111)"
   ]
  },
  {
   "cell_type": "code",
   "execution_count": 75,
   "id": "90059105",
   "metadata": {},
   "outputs": [
    {
     "name": "stdout",
     "output_type": "stream",
     "text": [
      "['一', '一']\n",
      "2\n",
      "['十', '零']\n",
      "[('一', '十'), ('一', '零')]\n",
      "['一十', '一零']\n",
      "十一\n"
     ]
    }
   ],
   "source": [
    "int2ch(11)"
   ]
  },
  {
   "cell_type": "code",
   "execution_count": 78,
   "id": "69e6c6a3",
   "metadata": {},
   "outputs": [
    {
     "name": "stdout",
     "output_type": "stream",
     "text": [
      "['二', '零', '一']\n",
      "3\n",
      "['百', '十', '零']\n",
      "[('二', '百'), ('零', '十'), ('一', '零')]\n",
      "['二百', '一零']\n",
      "二百一\n"
     ]
    }
   ],
   "source": [
    "int2ch(201)"
   ]
  },
  {
   "cell_type": "code",
   "execution_count": 79,
   "id": "23881787",
   "metadata": {},
   "outputs": [],
   "source": [
    "def int2ch(num):\n",
    "    '''先轉換int成中文str，利用字串做數字轉換處理，利用字串長度判別進制單位'''\n",
    "    # 製作轉換表，數字轉換表的key為str，進制轉換表的key為int\n",
    "    ch_nums = ['零', '一', '二', '三', '四', '五', '六', '七', '八', '九']\n",
    "    ch_bases = ['零', '十', '百', '千', '萬']\n",
    "    str_nums = [str(i) for i in range(10)]\n",
    "    single_dict = dict((zip(str_nums, ch_nums)))\n",
    "    base_dict = dict(zip(range(1, len(ch_bases)+1), ch_bases))\n",
    "\n",
    "    # int轉成中文, 從長度轉換出各數字進制單位\n",
    "    num = str(num)\n",
    "    nums = [single_dict[i] for i in num]\n",
    "    bases = [base_dict[i] for i in range(len(nums), 0 , -1)]\n",
    "\n",
    "    # 去掉為零的單位後串接起來，修正尾部的零和十的行慣用法\n",
    "    trans_num = [num+base for num, base in zip(nums, bases) if not num == '零']\n",
    "    if trans_num[0] == '一十':\n",
    "        trans_num[0] = '十'\n",
    "    trans_num = ''.join(trans_num).rstrip('零')\n",
    "    return trans_num"
   ]
  },
  {
   "cell_type": "code",
   "execution_count": 83,
   "id": "76a7824b",
   "metadata": {},
   "outputs": [
    {
     "data": {
      "text/plain": [
       "'二千一百'"
      ]
     },
     "execution_count": 83,
     "metadata": {},
     "output_type": "execute_result"
    }
   ],
   "source": [
    "int2ch(2100)"
   ]
  },
  {
   "cell_type": "code",
   "execution_count": 84,
   "id": "9c4a3de3",
   "metadata": {},
   "outputs": [],
   "source": [
    "def create_int2ch_dict(max_num):\n",
    "    return {i: int2ch(i) for i in range(1, max_num+1)}"
   ]
  },
  {
   "cell_type": "code",
   "execution_count": 85,
   "id": "37a2a80f",
   "metadata": {
    "collapsed": true,
    "jupyter": {
     "outputs_hidden": true
    }
   },
   "outputs": [
    {
     "data": {
      "text/plain": [
       "{1: '一',\n",
       " 2: '二',\n",
       " 3: '三',\n",
       " 4: '四',\n",
       " 5: '五',\n",
       " 6: '六',\n",
       " 7: '七',\n",
       " 8: '八',\n",
       " 9: '九',\n",
       " 10: '十',\n",
       " 11: '十一',\n",
       " 12: '十二',\n",
       " 13: '十三',\n",
       " 14: '十四',\n",
       " 15: '十五',\n",
       " 16: '十六',\n",
       " 17: '十七',\n",
       " 18: '十八',\n",
       " 19: '十九',\n",
       " 20: '二十',\n",
       " 21: '二十一',\n",
       " 22: '二十二',\n",
       " 23: '二十三',\n",
       " 24: '二十四',\n",
       " 25: '二十五',\n",
       " 26: '二十六',\n",
       " 27: '二十七',\n",
       " 28: '二十八',\n",
       " 29: '二十九',\n",
       " 30: '三十',\n",
       " 31: '三十一',\n",
       " 32: '三十二',\n",
       " 33: '三十三',\n",
       " 34: '三十四',\n",
       " 35: '三十五',\n",
       " 36: '三十六',\n",
       " 37: '三十七',\n",
       " 38: '三十八',\n",
       " 39: '三十九',\n",
       " 40: '四十',\n",
       " 41: '四十一',\n",
       " 42: '四十二',\n",
       " 43: '四十三',\n",
       " 44: '四十四',\n",
       " 45: '四十五',\n",
       " 46: '四十六',\n",
       " 47: '四十七',\n",
       " 48: '四十八',\n",
       " 49: '四十九',\n",
       " 50: '五十',\n",
       " 51: '五十一',\n",
       " 52: '五十二',\n",
       " 53: '五十三',\n",
       " 54: '五十四',\n",
       " 55: '五十五',\n",
       " 56: '五十六',\n",
       " 57: '五十七',\n",
       " 58: '五十八',\n",
       " 59: '五十九',\n",
       " 60: '六十',\n",
       " 61: '六十一',\n",
       " 62: '六十二',\n",
       " 63: '六十三',\n",
       " 64: '六十四',\n",
       " 65: '六十五',\n",
       " 66: '六十六',\n",
       " 67: '六十七',\n",
       " 68: '六十八',\n",
       " 69: '六十九',\n",
       " 70: '七十',\n",
       " 71: '七十一',\n",
       " 72: '七十二',\n",
       " 73: '七十三',\n",
       " 74: '七十四',\n",
       " 75: '七十五',\n",
       " 76: '七十六',\n",
       " 77: '七十七',\n",
       " 78: '七十八',\n",
       " 79: '七十九',\n",
       " 80: '八十',\n",
       " 81: '八十一',\n",
       " 82: '八十二',\n",
       " 83: '八十三',\n",
       " 84: '八十四',\n",
       " 85: '八十五',\n",
       " 86: '八十六',\n",
       " 87: '八十七',\n",
       " 88: '八十八',\n",
       " 89: '八十九',\n",
       " 90: '九十',\n",
       " 91: '九十一',\n",
       " 92: '九十二',\n",
       " 93: '九十三',\n",
       " 94: '九十四',\n",
       " 95: '九十五',\n",
       " 96: '九十六',\n",
       " 97: '九十七',\n",
       " 98: '九十八',\n",
       " 99: '九十九',\n",
       " 100: '一百'}"
      ]
     },
     "execution_count": 85,
     "metadata": {},
     "output_type": "execute_result"
    }
   ],
   "source": [
    "create_int2ch_dict(100)"
   ]
  },
  {
   "cell_type": "code",
   "execution_count": 27,
   "id": "46289e5e",
   "metadata": {},
   "outputs": [],
   "source": [
    "import re\n",
    "def int2ch(num):\n",
    "    \"\"\"先轉換int成中文str，利用字串做數字轉換處理，利用字串長度判別進制單位\"\"\"\n",
    "    # 製作轉換表，數字轉換表的key為str，進制轉換表的key為int\n",
    "    ch_nums = ('零', '一', '二', '三', '四', '五', '六', '七', '八', '九')\n",
    "    ch_bases=('零', '十', '百', '千', '萬')\n",
    "    if num >= 10 ** len(ch_bases):\n",
    "        raise ValueError(f\"num can't bigger then {10 ** len(ch_bases)=}\")\n",
    "    str_nums = [str(i) for i in range(10)]\n",
    "    single_dict = dict((zip(str_nums, ch_nums)))\n",
    "    base_dict = dict(zip(range(1, len(ch_bases) + 1), ch_bases))\n",
    "\n",
    "    # int轉成中文, 從長度轉換出各數字進制單位\n",
    "    num = str(num)\n",
    "    nums = [single_dict[i] for i in num]\n",
    "    bases = [base_dict[i] for i in range(len(nums), 0, -1)]\n",
    "\n",
    "    # 連續為零的進制以一個零表示，修正尾部的零和十的行慣用法\n",
    "    trans_num = [num if num=='零' else num+base for num, base in zip(nums, bases)]\n",
    "    if trans_num[0] == '一十':\n",
    "        trans_num[0] = '十'\n",
    "    trans_num = ''.join(trans_num).rstrip('零')\n",
    "    trans_num = re.sub(r'零+', '零', trans_num)\n",
    "    return trans_num"
   ]
  }
 ],
 "metadata": {
  "kernelspec": {
   "display_name": "Python 3 (ipykernel)",
   "language": "python",
   "name": "python3"
  },
  "language_info": {
   "codemirror_mode": {
    "name": "ipython",
    "version": 3
   },
   "file_extension": ".py",
   "mimetype": "text/x-python",
   "name": "python",
   "nbconvert_exporter": "python",
   "pygments_lexer": "ipython3",
   "version": "3.10.4"
  }
 },
 "nbformat": 4,
 "nbformat_minor": 5
}
